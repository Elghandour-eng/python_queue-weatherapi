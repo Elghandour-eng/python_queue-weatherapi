{
 "cells": [
  {
   "cell_type": "code",
   "execution_count": 3,
   "metadata": {},
   "outputs": [
    {
     "name": "stdout",
     "output_type": "stream",
     "text": [
      "The Queue is Empty\n",
      "The Queue is Not Empty\n",
      "10\n",
      "True\n",
      "Abdelwahab\n"
     ]
    }
   ],
   "source": [
    "class Queue:\n",
    "    def __init__(self):\n",
    "        self.items=[]\n",
    "    def insert(self,item):\n",
    "        self.items.insert(0,item)\n",
    "    def pop(self):\n",
    "        self.items.pop()\n",
    "    def isEmpty(self):\n",
    "        if self.items == []:\n",
    "            print(\"The Queue is Empty\")\n",
    "            return True\n",
    "        elif self.items != []:\n",
    "            print(\"The Queue is Not Empty\")\n",
    "            return False\n",
    "        \n",
    "        \n",
    "q= Queue()\n",
    "class Queue:\n",
    "    def __init__(self):\n",
    "        self.items=[]\n",
    "    def insert(self,item):\n",
    "        self.items.append(item)\n",
    "    def pop(self):\n",
    "        self.items.pop()\n",
    "    def isEmpty(self):\n",
    "        if self.items == []:\n",
    "            print(\"The Queue is Empty\")\n",
    "            return True\n",
    "        else :\n",
    "            print(\"The Queue is Not Empty\")\n",
    "            return False\n",
    "    def printData(self):\n",
    "        for n  in self.items:\n",
    "            print(n)   \n",
    "        \n",
    "q= Queue()\n",
    "q.isEmpty()\n",
    "q.insert(10)\n",
    "q.insert(True)\n",
    "q.insert(\"Abdelwahab\")\n",
    "q.insert(\"2022\")\n",
    "\n",
    "q.pop()\n",
    "q.isEmpty()\n",
    "q.printData()\n",
    "\n",
    "\n",
    "\n",
    "\n"
   ]
  },
  {
   "cell_type": "code",
   "execution_count": 4,
   "metadata": {},
   "outputs": [
    {
     "name": "stdout",
     "output_type": "stream",
     "text": [
      "Size Of Queue  8\n",
      "**************** 6\n",
      "5\n",
      "[{'name': 'Q1', 'size': 8, 'items': ['1', '2', '3', '8', '5', '6', '7']}, {'name': 'Q2', 'size': 5, 'items': [0, 1, 2, 3, 4]}, {'name': 'Q3', 'size': 5, 'items': [0, 1, 2, 3, 4]}, {'name': 'Q4', 'size': 5, 'items': [0, 1, 2, 3, 4]}, {'name': 'Q5', 'size': 5, 'items': [0, 1, 2, 3, 4]}]\n",
      "Not Found\n",
      "*************\n",
      "{'name': 'Q2', 'size': 5, 'items': [0, 1, 2, 3, 4]}\n"
     ]
    }
   ],
   "source": [
    "class Queue:\n",
    "    count = 0\n",
    "    queues = []\n",
    "\n",
    "    def __init__(self, name=' ', size=5):\n",
    "        self.name = name\n",
    "        self.current_idx = 0\n",
    "        self.size = size\n",
    "        self.items = []\n",
    "        Queue.queues.append(\n",
    "            {\"name\": self.name, \"size\": self.size, \"items\": self.items})\n",
    "        Queue.count += 1\n",
    "        for n in range(self.size):\n",
    "            self.items.append(n)\n",
    "\n",
    "    def insert(self, item):\n",
    "        if self.current_idx in range(self.size):\n",
    "            self.items[self.current_idx] = item\n",
    "            self.current_idx += 1\n",
    "        else:\n",
    "            raise Exception('QueueOutOfRangeException')\n",
    "\n",
    "    def pop(self):\n",
    "        self.items.pop()\n",
    "        self.current_idx -= 1\n",
    "\n",
    "    def isEmpty(self):\n",
    "        if self.items == []:\n",
    "            print(\"The Queue is Empty\")\n",
    "            return True\n",
    "        elif self.items != []:\n",
    "            print(\"The Queue is Not Empty\")\n",
    "            return False\n",
    "\n",
    "    def printData(self):\n",
    "        for n in self.items:\n",
    "            print(n)\n",
    "    @classmethod\n",
    "    def getQueueByName(cls,name):\n",
    "        for n in Queue.queues:\n",
    "            if n[\"name\"] ==name:\n",
    "                print('*************')\n",
    "                print(n)\n",
    "                break\n",
    "            else:\n",
    "                print(\"Not Found\")\n",
    "                    \n",
    "\n",
    "\n",
    "q = Queue(\"Q1\", 8)\n",
    "print('Size Of Queue ', q.size)\n",
    "q.insert(\"1\")\n",
    "q.insert(\"2\")\n",
    "q.insert(\"3\")\n",
    "q.insert(\"8\")\n",
    "q.insert(\"5\")\n",
    "q.insert(\"6\")\n",
    "q.insert(\"7\")\n",
    "\n",
    "q.pop()\n",
    "\n",
    "print('****************', q.current_idx)\n",
    "\n",
    "q1 = Queue(\"Q2\")\n",
    "q2 = Queue('Q3')\n",
    "q3 = Queue(\"Q4\")\n",
    "q4 = Queue('Q5')\n",
    "print(Queue.count)\n",
    "print(Queue.queues)\n",
    "\n",
    "Queue.getQueueByName(\"Q2\")"
   ]
  },
  {
   "cell_type": "code",
   "execution_count": 1,
   "metadata": {},
   "outputs": [],
   "source": [
    "import requests\n",
    "\n",
    "def get_cur_temp(city):\n",
    "    \n",
    "    mykey=\"72ccabe31f524f42958175030222911\"\n",
    "\n",
    "    response = requests.get(f\"http://api.weatherapi.com/v1/current.json?key={mykey}&q={city}&aqi=no\")\n",
    "    \n",
    "    return f\"Now temprature is {response.json()['current']['temp_c']} C  at {city} \""
   ]
  },
  {
   "cell_type": "code",
   "execution_count": 2,
   "metadata": {},
   "outputs": [
    {
     "data": {
      "text/plain": [
       "'Now temprature is 27.4 C  at Aswan '"
      ]
     },
     "execution_count": 2,
     "metadata": {},
     "output_type": "execute_result"
    }
   ],
   "source": [
    "get_cur_temp(\"Aswan\")"
   ]
  },
  {
   "cell_type": "code",
   "execution_count": 3,
   "metadata": {},
   "outputs": [
    {
     "data": {
      "text/plain": [
       "'Alexandria coordinates is lat : 31.2 , long : 29.92'"
      ]
     },
     "execution_count": 3,
     "metadata": {},
     "output_type": "execute_result"
    }
   ],
   "source": [
    "def getLatAndLong(city):\n",
    "    \n",
    "    mykey=\"72ccabe31f524f42958175030222911\"\n",
    "\n",
    "    response = requests.get(f\"http://api.weatherapi.com/v1/current.json?key={mykey}&q={city}&aqi=no\")\n",
    "    response = response.json()\n",
    "    return f\"{city} coordinates is lat : {response['location']['lat'] } , long : {response['location']['lon']}\"\n",
    "getLatAndLong(\"Alexandria\")"
   ]
  }
 ],
 "metadata": {
  "kernelspec": {
   "display_name": "Python 3.8.8 ('base')",
   "language": "python",
   "name": "python3"
  },
  "language_info": {
   "codemirror_mode": {
    "name": "ipython",
    "version": 3
   },
   "file_extension": ".py",
   "mimetype": "text/x-python",
   "name": "python",
   "nbconvert_exporter": "python",
   "pygments_lexer": "ipython3",
   "version": "3.8.8"
  },
  "vscode": {
   "interpreter": {
    "hash": "090233f98f2c95ed92d7dd5c4a00be1b5fa0b19e34f3fc20836a9072d807a5a0"
   }
  }
 },
 "nbformat": 4,
 "nbformat_minor": 4
}
