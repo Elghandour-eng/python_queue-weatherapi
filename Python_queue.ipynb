{
 "cells": [
  {
   "cell_type": "code",
   "execution_count": 59,
   "metadata": {},
   "outputs": [
    {
     "name": "stdout",
     "output_type": "stream",
     "text": [
      "The Queue is Empty\n",
      "The Queue is Not Empty\n",
      "10\n",
      "True\n",
      "Abdelwahab\n"
     ]
    }
   ],
   "source": [
    "class Queue:\n",
    "    def __init__(self):\n",
    "        self.items=[]\n",
    "    def insert(self,item):\n",
    "        self.items.append(item)\n",
    "    def pop(self):\n",
    "        self.items.pop()\n",
    "    def isEmpty(self):\n",
    "        if self.items == []:\n",
    "            print(\"The Queue is Empty\")\n",
    "            return True\n",
    "        else :\n",
    "            print(\"The Queue is Not Empty\")\n",
    "            return False\n",
    "    def printData(self):\n",
    "        for n  in self.items:\n",
    "            print(n)   \n",
    "        \n",
    "q= Queue()\n",
    "q.isEmpty()\n",
    "q.insert(10)\n",
    "q.insert(True)\n",
    "q.insert(\"Abdelwahab\")\n",
    "q.insert(\"2022\")\n",
    "\n",
    "q.pop()\n",
    "q.isEmpty()\n",
    "q.printData()\n",
    "\n",
    "\n",
    "\n",
    "\n"
   ]
  },
  {
   "cell_type": "code",
   "execution_count": 60,
   "metadata": {},
   "outputs": [
    {
     "name": "stdout",
     "output_type": "stream",
     "text": [
      "Size Of Queue  8\n",
      "Items in Queue1 7\n",
      "Number Of Queues 5\n",
      "Search With Names\n",
      "Not Found\n",
      "{'name': 'Q2', 'size': 1, 'items': ['']}\n",
      "Load\n"
     ]
    },
    {
     "data": {
      "text/plain": [
       "[{'name': 'Q1',\n",
       "  'size': 8,\n",
       "  'items': ['', '', '', '', '', '', '', '', '1', '2', '3', '8', '5', '6']},\n",
       " {'name': 'Q2', 'size': 1, 'items': ['']},\n",
       " {'name': 'Q3', 'size': 1, 'items': ['']},\n",
       " {'name': 'Q4', 'size': 1, 'items': ['']},\n",
       " {'name': 'dsfsdafafd', 'size': 1, 'items': ['']}]"
      ]
     },
     "execution_count": 60,
     "metadata": {},
     "output_type": "execute_result"
    }
   ],
   "source": [
    "import json\n",
    "class ChildQueue(Queue):\n",
    "    count = 0\n",
    "    queues = []\n",
    "\n",
    "    def __init__(self, name=' ', size=1):\n",
    "        super().__init__()\n",
    "        self.name = name\n",
    "        self.current_idx = 0\n",
    "        self.size = size\n",
    "        ChildQueue.queues.append(\n",
    "            {\"name\": self.name, \"size\": self.size, \"items\": self.items})\n",
    "        ChildQueue.count += 1\n",
    "        for n in range(self.size):\n",
    "            self.items.append('')\n",
    "    def insert(self,item):\n",
    "            if self.current_idx in range(self.size):\n",
    "                self.items.append(item)\n",
    "                self.current_idx+=1\n",
    "            else:\n",
    "                raise Exception(\"OutOfRangeException\")\n",
    "\n",
    "            \n",
    "                \n",
    "\n",
    "    @classmethod\n",
    "    def getQueueByName(cls,name):\n",
    "        for n in ChildQueue.queues:\n",
    "            if n[\"name\"] ==name:\n",
    "                print(n)\n",
    "                break\n",
    "            else:\n",
    "                print(\"Not Found\")\n",
    "    \n",
    "    @classmethod\n",
    "    def save(self):\n",
    "        with open('queues.json', 'w') as outfile:\n",
    "            json.dump(ChildQueue.queues, outfile)\n",
    "            \n",
    "            \n",
    "            \n",
    "   \n",
    "    @classmethod\n",
    "    def load(self):\n",
    "        with open('queues.json') as f:\n",
    "               return json.load(f)                \n",
    "\n",
    "\n",
    "q = ChildQueue(\"Q1\", 8)\n",
    "print('Size Of Queue ', q.size)\n",
    "q.insert(\"1\")\n",
    "q.insert(\"2\")\n",
    "q.insert(\"3\")\n",
    "q.insert(\"8\")\n",
    "q.insert(\"5\")\n",
    "q.insert(\"6\")\n",
    "q.insert(\"7\")\n",
    "\n",
    "q.pop()\n",
    "\n",
    "print('Items in Queue1', q.current_idx)\n",
    "\n",
    "q1 = ChildQueue(\"Q2\")\n",
    "q2 = ChildQueue('Q3')\n",
    "q3 = ChildQueue(\"Q4\")\n",
    "q4 = ChildQueue('dsfsdafafd')\n",
    "print(\"Number Of Queues\",ChildQueue.count)\n",
    "\n",
    "\n",
    "\n",
    "print(\"Search With Names\")\n",
    "ChildQueue.getQueueByName(\"Q2\")\n",
    "\n",
    "print(\"Load\")\n",
    "ChildQueue.save()\n",
    "ChildQueue.load()"
   ]
  },
  {
   "cell_type": "code",
   "execution_count": 61,
   "metadata": {},
   "outputs": [
    {
     "name": "stdout",
     "output_type": "stream",
     "text": [
      "Size Of Queue  6\n"
     ]
    },
    {
     "ename": "Exception",
     "evalue": "OutOfRangeException",
     "output_type": "error",
     "traceback": [
      "\u001b[1;31m---------------------------------------------------------------------------\u001b[0m",
      "\u001b[1;31mException\u001b[0m                                 Traceback (most recent call last)",
      "\u001b[1;32m<ipython-input-61-5289bf2fa597>\u001b[0m in \u001b[0;36m<module>\u001b[1;34m\u001b[0m\n\u001b[0;32m      7\u001b[0m \u001b[0mq\u001b[0m\u001b[1;33m.\u001b[0m\u001b[0minsert\u001b[0m\u001b[1;33m(\u001b[0m\u001b[1;34m\"5\"\u001b[0m\u001b[1;33m)\u001b[0m\u001b[1;33m\u001b[0m\u001b[1;33m\u001b[0m\u001b[0m\n\u001b[0;32m      8\u001b[0m \u001b[0mq\u001b[0m\u001b[1;33m.\u001b[0m\u001b[0minsert\u001b[0m\u001b[1;33m(\u001b[0m\u001b[1;34m\"6\"\u001b[0m\u001b[1;33m)\u001b[0m\u001b[1;33m\u001b[0m\u001b[1;33m\u001b[0m\u001b[0m\n\u001b[1;32m----> 9\u001b[1;33m \u001b[0mq\u001b[0m\u001b[1;33m.\u001b[0m\u001b[0minsert\u001b[0m\u001b[1;33m(\u001b[0m\u001b[1;34m\"6\"\u001b[0m\u001b[1;33m)\u001b[0m\u001b[1;33m\u001b[0m\u001b[1;33m\u001b[0m\u001b[0m\n\u001b[0m\u001b[0;32m     10\u001b[0m \u001b[1;33m\u001b[0m\u001b[0m\n\u001b[0;32m     11\u001b[0m \u001b[0mprint\u001b[0m\u001b[1;33m(\u001b[0m\u001b[0mq\u001b[0m\u001b[1;33m.\u001b[0m\u001b[0mcurrent_idx\u001b[0m\u001b[1;33m)\u001b[0m\u001b[1;33m\u001b[0m\u001b[1;33m\u001b[0m\u001b[0m\n",
      "\u001b[1;32m<ipython-input-60-ab1dc3041cad>\u001b[0m in \u001b[0;36minsert\u001b[1;34m(self, item)\u001b[0m\n\u001b[0;32m     19\u001b[0m                 \u001b[0mself\u001b[0m\u001b[1;33m.\u001b[0m\u001b[0mcurrent_idx\u001b[0m\u001b[1;33m+=\u001b[0m\u001b[1;36m1\u001b[0m\u001b[1;33m\u001b[0m\u001b[1;33m\u001b[0m\u001b[0m\n\u001b[0;32m     20\u001b[0m             \u001b[1;32melse\u001b[0m\u001b[1;33m:\u001b[0m\u001b[1;33m\u001b[0m\u001b[1;33m\u001b[0m\u001b[0m\n\u001b[1;32m---> 21\u001b[1;33m                 \u001b[1;32mraise\u001b[0m \u001b[0mException\u001b[0m\u001b[1;33m(\u001b[0m\u001b[1;34m\"OutOfRangeException\"\u001b[0m\u001b[1;33m)\u001b[0m\u001b[1;33m\u001b[0m\u001b[1;33m\u001b[0m\u001b[0m\n\u001b[0m\u001b[0;32m     22\u001b[0m \u001b[1;33m\u001b[0m\u001b[0m\n\u001b[0;32m     23\u001b[0m \u001b[1;33m\u001b[0m\u001b[0m\n",
      "\u001b[1;31mException\u001b[0m: OutOfRangeException"
     ]
    }
   ],
   "source": [
    "\n",
    "q = ChildQueue(\"q8\", 6)\n",
    "print('Size Of Queue ', q.size)\n",
    "q.insert(\"1\")\n",
    "q.insert(\"2\")\n",
    "q.insert(\"3\")\n",
    "q.insert(\"8\")\n",
    "q.insert(\"5\")\n",
    "q.insert(\"6\")\n",
    "q.insert(\"6\")\n",
    "\n",
    "print(q.current_idx)\n",
    "\n"
   ]
  },
  {
   "cell_type": "code",
   "execution_count": null,
   "metadata": {},
   "outputs": [],
   "source": []
  },
  {
   "cell_type": "code",
   "execution_count": 3,
   "metadata": {},
   "outputs": [
    {
     "name": "stdout",
     "output_type": "stream",
     "text": [
      "Now temprature is 23.0 C  in cairo  city\n"
     ]
    }
   ],
   "source": [
    "import requests\n",
    "\n",
    "def getTempt(city):\n",
    "    \n",
    "\n",
    "\n",
    "    response = requests.get(f\"http://api.weatherapi.com/v1/current.json?key=72ccabe31f524f42958175030222911&q={city}&aqi=no\")\n",
    "    \n",
    "    print(f\"Now temprature is {response.json()['current']['temp_c']} C  in {city}  city\")\n",
    "\n",
    "getTempt('cairo')    "
   ]
  },
  {
   "cell_type": "code",
   "execution_count": 4,
   "metadata": {},
   "outputs": [],
   "source": [
    "def getLatandLong(city):\n",
    "    \n",
    "\n",
    "\n",
    "    response = requests.get(f\"http://api.weatherapi.com/v1/current.json?key=72ccabe31f524f42958175030222911&q={city}&aqi=no\")\n",
    "    response = response.json()\n",
    "    print(f\"{city} coordinates is lat : {response['location']['lat'] } , long : {response['location']['lon']}\")"
   ]
  },
  {
   "cell_type": "code",
   "execution_count": 5,
   "metadata": {},
   "outputs": [
    {
     "name": "stdout",
     "output_type": "stream",
     "text": [
      "Aswan coordinates is lat : 24.09 , long : 32.9\n"
     ]
    }
   ],
   "source": [
    "getLatandLong('Aswan')"
   ]
  }
 ],
 "metadata": {
  "kernelspec": {
   "display_name": "Python 3.8.8 ('base')",
   "language": "python",
   "name": "python3"
  },
  "language_info": {
   "codemirror_mode": {
    "name": "ipython",
    "version": 3
   },
   "file_extension": ".py",
   "mimetype": "text/x-python",
   "name": "python",
   "nbconvert_exporter": "python",
   "pygments_lexer": "ipython3",
   "version": "3.8.8"
  },
  "vscode": {
   "interpreter": {
    "hash": "090233f98f2c95ed92d7dd5c4a00be1b5fa0b19e34f3fc20836a9072d807a5a0"
   }
  }
 },
 "nbformat": 4,
 "nbformat_minor": 4
}
